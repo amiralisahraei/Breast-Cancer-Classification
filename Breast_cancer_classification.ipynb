{
  "nbformat": 4,
  "nbformat_minor": 0,
  "metadata": {
    "colab": {
      "name": "Breast_cancer_classification.ipynb",
      "provenance": [],
      "collapsed_sections": []
    },
    "kernelspec": {
      "name": "python3",
      "display_name": "Python 3"
    },
    "language_info": {
      "name": "python"
    }
  },
  "cells": [
    {
      "cell_type": "code",
      "source": [
        "import os, shutil\n",
        "import cv2\n",
        "import glob\n",
        "import numpy as np"
      ],
      "metadata": {
        "id": "zo1UkVLQTbeM"
      },
      "execution_count": 2,
      "outputs": []
    },
    {
      "cell_type": "code",
      "source": [
        "from google.colab import drive\n",
        "drive.mount('/content/gdrive')"
      ],
      "metadata": {
        "colab": {
          "base_uri": "https://localhost:8080/"
        },
        "id": "Zp9NU9lBTYrL",
        "outputId": "89565e97-f4e8-4b20-f39e-e1a427e09f1f"
      },
      "execution_count": 3,
      "outputs": [
        {
          "output_type": "stream",
          "name": "stdout",
          "text": [
            "Mounted at /content/gdrive\n"
          ]
        }
      ]
    },
    {
      "cell_type": "code",
      "source": [
        "os.environ['KAGGLE_CONFIG_DIR'] = \"/content/gdrive/My Drive/Kaggle\""
      ],
      "metadata": {
        "id": "lZZb01BhTc9t"
      },
      "execution_count": 5,
      "outputs": []
    },
    {
      "cell_type": "markdown",
      "source": [
        "Download Dataset and Unzip the file"
      ],
      "metadata": {
        "id": "iLUmd3UL-zxl"
      }
    },
    {
      "cell_type": "code",
      "source": [
        "!kaggle datasets download -d uciml/breast-cancer-wisconsin-data"
      ],
      "metadata": {
        "colab": {
          "base_uri": "https://localhost:8080/"
        },
        "id": "Y7hNpPUZtglB",
        "outputId": "654e9936-aa0a-4958-f549-0f37ad1c1720"
      },
      "execution_count": 6,
      "outputs": [
        {
          "output_type": "stream",
          "name": "stdout",
          "text": [
            "Downloading breast-cancer-wisconsin-data.zip to /content\n",
            "\r  0% 0.00/48.6k [00:00<?, ?B/s]\n",
            "\r100% 48.6k/48.6k [00:00<00:00, 28.7MB/s]\n"
          ]
        }
      ]
    },
    {
      "cell_type": "code",
      "source": [
        "!unzip \"/content/breast-cancer-wisconsin-data.zip\""
      ],
      "metadata": {
        "colab": {
          "base_uri": "https://localhost:8080/"
        },
        "id": "KhINHvT2tqPQ",
        "outputId": "4a8cde28-9ed7-4f59-fe19-a5065dcf20c3"
      },
      "execution_count": 7,
      "outputs": [
        {
          "output_type": "stream",
          "name": "stdout",
          "text": [
            "Archive:  /content/breast-cancer-wisconsin-data.zip\n",
            "  inflating: data.csv                \n"
          ]
        }
      ]
    },
    {
      "cell_type": "markdown",
      "source": [
        "Read DataSet"
      ],
      "metadata": {
        "id": "FVogdnF3_Bpe"
      }
    },
    {
      "cell_type": "code",
      "source": [
        "import pandas as pd\n",
        "\n",
        "df = pd.read_csv(\"/content/data.csv\")\n",
        "import pandas as pd\n",
        "df.drop('Unnamed: 32', inplace=True, axis=1)\n",
        "df.drop('id', inplace=True, axis=1)\n",
        "\n",
        "df.diagnosis[df.diagnosis == 'M'] = 1\n",
        "df.diagnosis[df.diagnosis == 'B'] = 0\n",
        "\n",
        "print(len(df.columns))\n",
        "df.head()"
      ],
      "metadata": {
        "colab": {
          "base_uri": "https://localhost:8080/",
          "height": 508
        },
        "id": "nxWqXahht5OR",
        "outputId": "2ee0ca3c-0564-4c7e-ad8d-36045bff649b"
      },
      "execution_count": 103,
      "outputs": [
        {
          "output_type": "stream",
          "name": "stdout",
          "text": [
            "31\n"
          ]
        },
        {
          "output_type": "stream",
          "name": "stderr",
          "text": [
            "/usr/local/lib/python3.7/dist-packages/ipykernel_launcher.py:8: SettingWithCopyWarning: \n",
            "A value is trying to be set on a copy of a slice from a DataFrame\n",
            "\n",
            "See the caveats in the documentation: https://pandas.pydata.org/pandas-docs/stable/user_guide/indexing.html#returning-a-view-versus-a-copy\n",
            "  \n",
            "/usr/local/lib/python3.7/dist-packages/ipykernel_launcher.py:9: SettingWithCopyWarning: \n",
            "A value is trying to be set on a copy of a slice from a DataFrame\n",
            "\n",
            "See the caveats in the documentation: https://pandas.pydata.org/pandas-docs/stable/user_guide/indexing.html#returning-a-view-versus-a-copy\n",
            "  if __name__ == '__main__':\n"
          ]
        },
        {
          "output_type": "execute_result",
          "data": {
            "text/plain": [
              "  diagnosis  radius_mean  texture_mean  perimeter_mean  area_mean  \\\n",
              "0         1        17.99         10.38          122.80     1001.0   \n",
              "1         1        20.57         17.77          132.90     1326.0   \n",
              "2         1        19.69         21.25          130.00     1203.0   \n",
              "3         1        11.42         20.38           77.58      386.1   \n",
              "4         1        20.29         14.34          135.10     1297.0   \n",
              "\n",
              "   smoothness_mean  compactness_mean  concavity_mean  concave points_mean  \\\n",
              "0          0.11840           0.27760          0.3001              0.14710   \n",
              "1          0.08474           0.07864          0.0869              0.07017   \n",
              "2          0.10960           0.15990          0.1974              0.12790   \n",
              "3          0.14250           0.28390          0.2414              0.10520   \n",
              "4          0.10030           0.13280          0.1980              0.10430   \n",
              "\n",
              "   symmetry_mean  ...  radius_worst  texture_worst  perimeter_worst  \\\n",
              "0         0.2419  ...         25.38          17.33           184.60   \n",
              "1         0.1812  ...         24.99          23.41           158.80   \n",
              "2         0.2069  ...         23.57          25.53           152.50   \n",
              "3         0.2597  ...         14.91          26.50            98.87   \n",
              "4         0.1809  ...         22.54          16.67           152.20   \n",
              "\n",
              "   area_worst  smoothness_worst  compactness_worst  concavity_worst  \\\n",
              "0      2019.0            0.1622             0.6656           0.7119   \n",
              "1      1956.0            0.1238             0.1866           0.2416   \n",
              "2      1709.0            0.1444             0.4245           0.4504   \n",
              "3       567.7            0.2098             0.8663           0.6869   \n",
              "4      1575.0            0.1374             0.2050           0.4000   \n",
              "\n",
              "   concave points_worst  symmetry_worst  fractal_dimension_worst  \n",
              "0                0.2654          0.4601                  0.11890  \n",
              "1                0.1860          0.2750                  0.08902  \n",
              "2                0.2430          0.3613                  0.08758  \n",
              "3                0.2575          0.6638                  0.17300  \n",
              "4                0.1625          0.2364                  0.07678  \n",
              "\n",
              "[5 rows x 31 columns]"
            ],
            "text/html": [
              "\n",
              "  <div id=\"df-647e23b7-d40c-4036-a302-c84059127948\">\n",
              "    <div class=\"colab-df-container\">\n",
              "      <div>\n",
              "<style scoped>\n",
              "    .dataframe tbody tr th:only-of-type {\n",
              "        vertical-align: middle;\n",
              "    }\n",
              "\n",
              "    .dataframe tbody tr th {\n",
              "        vertical-align: top;\n",
              "    }\n",
              "\n",
              "    .dataframe thead th {\n",
              "        text-align: right;\n",
              "    }\n",
              "</style>\n",
              "<table border=\"1\" class=\"dataframe\">\n",
              "  <thead>\n",
              "    <tr style=\"text-align: right;\">\n",
              "      <th></th>\n",
              "      <th>diagnosis</th>\n",
              "      <th>radius_mean</th>\n",
              "      <th>texture_mean</th>\n",
              "      <th>perimeter_mean</th>\n",
              "      <th>area_mean</th>\n",
              "      <th>smoothness_mean</th>\n",
              "      <th>compactness_mean</th>\n",
              "      <th>concavity_mean</th>\n",
              "      <th>concave points_mean</th>\n",
              "      <th>symmetry_mean</th>\n",
              "      <th>...</th>\n",
              "      <th>radius_worst</th>\n",
              "      <th>texture_worst</th>\n",
              "      <th>perimeter_worst</th>\n",
              "      <th>area_worst</th>\n",
              "      <th>smoothness_worst</th>\n",
              "      <th>compactness_worst</th>\n",
              "      <th>concavity_worst</th>\n",
              "      <th>concave points_worst</th>\n",
              "      <th>symmetry_worst</th>\n",
              "      <th>fractal_dimension_worst</th>\n",
              "    </tr>\n",
              "  </thead>\n",
              "  <tbody>\n",
              "    <tr>\n",
              "      <th>0</th>\n",
              "      <td>1</td>\n",
              "      <td>17.99</td>\n",
              "      <td>10.38</td>\n",
              "      <td>122.80</td>\n",
              "      <td>1001.0</td>\n",
              "      <td>0.11840</td>\n",
              "      <td>0.27760</td>\n",
              "      <td>0.3001</td>\n",
              "      <td>0.14710</td>\n",
              "      <td>0.2419</td>\n",
              "      <td>...</td>\n",
              "      <td>25.38</td>\n",
              "      <td>17.33</td>\n",
              "      <td>184.60</td>\n",
              "      <td>2019.0</td>\n",
              "      <td>0.1622</td>\n",
              "      <td>0.6656</td>\n",
              "      <td>0.7119</td>\n",
              "      <td>0.2654</td>\n",
              "      <td>0.4601</td>\n",
              "      <td>0.11890</td>\n",
              "    </tr>\n",
              "    <tr>\n",
              "      <th>1</th>\n",
              "      <td>1</td>\n",
              "      <td>20.57</td>\n",
              "      <td>17.77</td>\n",
              "      <td>132.90</td>\n",
              "      <td>1326.0</td>\n",
              "      <td>0.08474</td>\n",
              "      <td>0.07864</td>\n",
              "      <td>0.0869</td>\n",
              "      <td>0.07017</td>\n",
              "      <td>0.1812</td>\n",
              "      <td>...</td>\n",
              "      <td>24.99</td>\n",
              "      <td>23.41</td>\n",
              "      <td>158.80</td>\n",
              "      <td>1956.0</td>\n",
              "      <td>0.1238</td>\n",
              "      <td>0.1866</td>\n",
              "      <td>0.2416</td>\n",
              "      <td>0.1860</td>\n",
              "      <td>0.2750</td>\n",
              "      <td>0.08902</td>\n",
              "    </tr>\n",
              "    <tr>\n",
              "      <th>2</th>\n",
              "      <td>1</td>\n",
              "      <td>19.69</td>\n",
              "      <td>21.25</td>\n",
              "      <td>130.00</td>\n",
              "      <td>1203.0</td>\n",
              "      <td>0.10960</td>\n",
              "      <td>0.15990</td>\n",
              "      <td>0.1974</td>\n",
              "      <td>0.12790</td>\n",
              "      <td>0.2069</td>\n",
              "      <td>...</td>\n",
              "      <td>23.57</td>\n",
              "      <td>25.53</td>\n",
              "      <td>152.50</td>\n",
              "      <td>1709.0</td>\n",
              "      <td>0.1444</td>\n",
              "      <td>0.4245</td>\n",
              "      <td>0.4504</td>\n",
              "      <td>0.2430</td>\n",
              "      <td>0.3613</td>\n",
              "      <td>0.08758</td>\n",
              "    </tr>\n",
              "    <tr>\n",
              "      <th>3</th>\n",
              "      <td>1</td>\n",
              "      <td>11.42</td>\n",
              "      <td>20.38</td>\n",
              "      <td>77.58</td>\n",
              "      <td>386.1</td>\n",
              "      <td>0.14250</td>\n",
              "      <td>0.28390</td>\n",
              "      <td>0.2414</td>\n",
              "      <td>0.10520</td>\n",
              "      <td>0.2597</td>\n",
              "      <td>...</td>\n",
              "      <td>14.91</td>\n",
              "      <td>26.50</td>\n",
              "      <td>98.87</td>\n",
              "      <td>567.7</td>\n",
              "      <td>0.2098</td>\n",
              "      <td>0.8663</td>\n",
              "      <td>0.6869</td>\n",
              "      <td>0.2575</td>\n",
              "      <td>0.6638</td>\n",
              "      <td>0.17300</td>\n",
              "    </tr>\n",
              "    <tr>\n",
              "      <th>4</th>\n",
              "      <td>1</td>\n",
              "      <td>20.29</td>\n",
              "      <td>14.34</td>\n",
              "      <td>135.10</td>\n",
              "      <td>1297.0</td>\n",
              "      <td>0.10030</td>\n",
              "      <td>0.13280</td>\n",
              "      <td>0.1980</td>\n",
              "      <td>0.10430</td>\n",
              "      <td>0.1809</td>\n",
              "      <td>...</td>\n",
              "      <td>22.54</td>\n",
              "      <td>16.67</td>\n",
              "      <td>152.20</td>\n",
              "      <td>1575.0</td>\n",
              "      <td>0.1374</td>\n",
              "      <td>0.2050</td>\n",
              "      <td>0.4000</td>\n",
              "      <td>0.1625</td>\n",
              "      <td>0.2364</td>\n",
              "      <td>0.07678</td>\n",
              "    </tr>\n",
              "  </tbody>\n",
              "</table>\n",
              "<p>5 rows × 31 columns</p>\n",
              "</div>\n",
              "      <button class=\"colab-df-convert\" onclick=\"convertToInteractive('df-647e23b7-d40c-4036-a302-c84059127948')\"\n",
              "              title=\"Convert this dataframe to an interactive table.\"\n",
              "              style=\"display:none;\">\n",
              "        \n",
              "  <svg xmlns=\"http://www.w3.org/2000/svg\" height=\"24px\"viewBox=\"0 0 24 24\"\n",
              "       width=\"24px\">\n",
              "    <path d=\"M0 0h24v24H0V0z\" fill=\"none\"/>\n",
              "    <path d=\"M18.56 5.44l.94 2.06.94-2.06 2.06-.94-2.06-.94-.94-2.06-.94 2.06-2.06.94zm-11 1L8.5 8.5l.94-2.06 2.06-.94-2.06-.94L8.5 2.5l-.94 2.06-2.06.94zm10 10l.94 2.06.94-2.06 2.06-.94-2.06-.94-.94-2.06-.94 2.06-2.06.94z\"/><path d=\"M17.41 7.96l-1.37-1.37c-.4-.4-.92-.59-1.43-.59-.52 0-1.04.2-1.43.59L10.3 9.45l-7.72 7.72c-.78.78-.78 2.05 0 2.83L4 21.41c.39.39.9.59 1.41.59.51 0 1.02-.2 1.41-.59l7.78-7.78 2.81-2.81c.8-.78.8-2.07 0-2.86zM5.41 20L4 18.59l7.72-7.72 1.47 1.35L5.41 20z\"/>\n",
              "  </svg>\n",
              "      </button>\n",
              "      \n",
              "  <style>\n",
              "    .colab-df-container {\n",
              "      display:flex;\n",
              "      flex-wrap:wrap;\n",
              "      gap: 12px;\n",
              "    }\n",
              "\n",
              "    .colab-df-convert {\n",
              "      background-color: #E8F0FE;\n",
              "      border: none;\n",
              "      border-radius: 50%;\n",
              "      cursor: pointer;\n",
              "      display: none;\n",
              "      fill: #1967D2;\n",
              "      height: 32px;\n",
              "      padding: 0 0 0 0;\n",
              "      width: 32px;\n",
              "    }\n",
              "\n",
              "    .colab-df-convert:hover {\n",
              "      background-color: #E2EBFA;\n",
              "      box-shadow: 0px 1px 2px rgba(60, 64, 67, 0.3), 0px 1px 3px 1px rgba(60, 64, 67, 0.15);\n",
              "      fill: #174EA6;\n",
              "    }\n",
              "\n",
              "    [theme=dark] .colab-df-convert {\n",
              "      background-color: #3B4455;\n",
              "      fill: #D2E3FC;\n",
              "    }\n",
              "\n",
              "    [theme=dark] .colab-df-convert:hover {\n",
              "      background-color: #434B5C;\n",
              "      box-shadow: 0px 1px 3px 1px rgba(0, 0, 0, 0.15);\n",
              "      filter: drop-shadow(0px 1px 2px rgba(0, 0, 0, 0.3));\n",
              "      fill: #FFFFFF;\n",
              "    }\n",
              "  </style>\n",
              "\n",
              "      <script>\n",
              "        const buttonEl =\n",
              "          document.querySelector('#df-647e23b7-d40c-4036-a302-c84059127948 button.colab-df-convert');\n",
              "        buttonEl.style.display =\n",
              "          google.colab.kernel.accessAllowed ? 'block' : 'none';\n",
              "\n",
              "        async function convertToInteractive(key) {\n",
              "          const element = document.querySelector('#df-647e23b7-d40c-4036-a302-c84059127948');\n",
              "          const dataTable =\n",
              "            await google.colab.kernel.invokeFunction('convertToInteractive',\n",
              "                                                     [key], {});\n",
              "          if (!dataTable) return;\n",
              "\n",
              "          const docLinkHtml = 'Like what you see? Visit the ' +\n",
              "            '<a target=\"_blank\" href=https://colab.research.google.com/notebooks/data_table.ipynb>data table notebook</a>'\n",
              "            + ' to learn more about interactive tables.';\n",
              "          element.innerHTML = '';\n",
              "          dataTable['output_type'] = 'display_data';\n",
              "          await google.colab.output.renderOutput(dataTable, element);\n",
              "          const docLink = document.createElement('div');\n",
              "          docLink.innerHTML = docLinkHtml;\n",
              "          element.appendChild(docLink);\n",
              "        }\n",
              "      </script>\n",
              "    </div>\n",
              "  </div>\n",
              "  "
            ]
          },
          "metadata": {},
          "execution_count": 103
        }
      ]
    },
    {
      "cell_type": "code",
      "source": [
        "import numpy as np\n",
        "\n",
        "data = np.array(df)\n",
        "\n",
        "data"
      ],
      "metadata": {
        "colab": {
          "base_uri": "https://localhost:8080/"
        },
        "id": "eicd2FmhuMGe",
        "outputId": "14fde2c5-a8ef-4593-e4d7-d4f056abaf28"
      },
      "execution_count": 104,
      "outputs": [
        {
          "output_type": "execute_result",
          "data": {
            "text/plain": [
              "array([[1, 17.99, 10.38, ..., 0.2654, 0.4601, 0.1189],\n",
              "       [1, 20.57, 17.77, ..., 0.186, 0.275, 0.08902],\n",
              "       [1, 19.69, 21.25, ..., 0.243, 0.3613, 0.08758],\n",
              "       ...,\n",
              "       [1, 16.6, 28.08, ..., 0.1418, 0.2218, 0.0782],\n",
              "       [1, 20.6, 29.33, ..., 0.265, 0.4087, 0.124],\n",
              "       [0, 7.76, 24.54, ..., 0.0, 0.2871, 0.07039]], dtype=object)"
            ]
          },
          "metadata": {},
          "execution_count": 104
        }
      ]
    },
    {
      "cell_type": "code",
      "source": [
        "x = data[:, 1:]\n",
        "y = data[:, 0:1]\n",
        "y = y.flatten()\n",
        "\n",
        "print(\"X shape is :\",x.shape)\n",
        "print(\"Y shape is :\",y.shape)"
      ],
      "metadata": {
        "colab": {
          "base_uri": "https://localhost:8080/"
        },
        "id": "ZGuiwr7fuhSo",
        "outputId": "68c6155f-371b-4771-fad3-65c4611c79a3"
      },
      "execution_count": 105,
      "outputs": [
        {
          "output_type": "stream",
          "name": "stdout",
          "text": [
            "X shape is : (569, 30)\n",
            "Y shape is : (569,)\n"
          ]
        }
      ]
    },
    {
      "cell_type": "markdown",
      "source": [
        "Train test split"
      ],
      "metadata": {
        "id": "XyYLmo6i0BK8"
      }
    },
    {
      "cell_type": "code",
      "source": [
        "from sklearn.model_selection import train_test_split\n",
        "\n",
        "x_train, x_test, y_train, y_test = train_test_split(x, y, test_size=0.2, random_state = 30, shuffle=True)\n",
        "\n",
        "x_train = np.asarray(x_train).astype('float32')\n",
        "x_test = np.asarray(x_test).astype('float32')\n",
        "y_train = np.asarray(y_train).astype('float32')\n",
        "y_test = np.asarray(y_test).astype('float32')\n",
        "\n",
        "print(\"x_train shape:\", x_train.shape)\n",
        "print(\"x_test shape:\", x_test.shape)\n",
        "print(\"y_train shape:\", y_train.shape)\n",
        "print(\"y_test shape:\", y_test.shape)"
      ],
      "metadata": {
        "colab": {
          "base_uri": "https://localhost:8080/"
        },
        "id": "uaJkaai-0Dq5",
        "outputId": "48f53952-5825-4712-91c3-6540570b5393"
      },
      "execution_count": 106,
      "outputs": [
        {
          "output_type": "stream",
          "name": "stdout",
          "text": [
            "x_train shape: (455, 30)\n",
            "x_test shape: (114, 30)\n",
            "y_train shape: (455,)\n",
            "y_test shape: (114,)\n"
          ]
        }
      ]
    },
    {
      "cell_type": "markdown",
      "source": [
        "Normalization"
      ],
      "metadata": {
        "id": "-Qq2hddk1j8Q"
      }
    },
    {
      "cell_type": "code",
      "source": [
        "m = x_train.mean(axis = 0)\n",
        "s = x_train.max(axis = 0)\n",
        "\n",
        "x_train = (x_train - m) / s\n",
        "x_test = (x_test - m) / s\n"
      ],
      "metadata": {
        "id": "oP-0Kh5S1maS"
      },
      "execution_count": 107,
      "outputs": []
    },
    {
      "cell_type": "markdown",
      "source": [
        "Use Sklearn for Normalization"
      ],
      "metadata": {
        "id": "V12uNEXf3diy"
      }
    },
    {
      "cell_type": "code",
      "source": [
        "from sklearn.preprocessing import StandardScaler\n",
        "from sklearn.preprocessing import MinMaxScaler\n",
        "from sklearn.preprocessing import RobustScaler\n",
        "\n",
        "scaler = StandardScaler()\n",
        "scaler.fit(x_train)\n",
        "\n",
        "x_train = scaler.transform(x_train)\n",
        "x_test = scaler.transform(x_test)"
      ],
      "metadata": {
        "id": "0HR60_Z-3dLS"
      },
      "execution_count": 72,
      "outputs": []
    },
    {
      "cell_type": "markdown",
      "source": [
        "Make the Model"
      ],
      "metadata": {
        "id": "-M_LEDH15Ma1"
      }
    },
    {
      "cell_type": "code",
      "source": [
        "from tensorflow.keras import Sequential\n",
        "from tensorflow.keras.layers import Dense\n",
        "\n",
        "model = Sequential()\n",
        "model.add(Dense(64, activation=\"tanh\", input_shape=(30,)))\n",
        "model.add(Dense(32, activation=\"tanh\"))\n",
        "model.add(Dense(1, activation=\"sigmoid\"))\n",
        "\n",
        "model.compile(loss=\"binary_crossentropy\", optimizer=\"rmsprop\", metrics=[\"accuracy\"])\n",
        "\n",
        "model.summary()"
      ],
      "metadata": {
        "colab": {
          "base_uri": "https://localhost:8080/"
        },
        "id": "amahMWnn4X6j",
        "outputId": "75a8cded-aa1e-4bc0-ef80-2b1c31abbd92"
      },
      "execution_count": 108,
      "outputs": [
        {
          "output_type": "stream",
          "name": "stdout",
          "text": [
            "Model: \"sequential_5\"\n",
            "_________________________________________________________________\n",
            " Layer (type)                Output Shape              Param #   \n",
            "=================================================================\n",
            " dense_15 (Dense)            (None, 64)                1984      \n",
            "                                                                 \n",
            " dense_16 (Dense)            (None, 32)                2080      \n",
            "                                                                 \n",
            " dense_17 (Dense)            (None, 1)                 33        \n",
            "                                                                 \n",
            "=================================================================\n",
            "Total params: 4,097\n",
            "Trainable params: 4,097\n",
            "Non-trainable params: 0\n",
            "_________________________________________________________________\n"
          ]
        }
      ]
    },
    {
      "cell_type": "markdown",
      "source": [
        "Train the Mode"
      ],
      "metadata": {
        "id": "HkY5CJTL7Mpk"
      }
    },
    {
      "cell_type": "code",
      "source": [
        "history = model.fit(x_train, y_train, epochs=30, validation_split=0.2)"
      ],
      "metadata": {
        "colab": {
          "base_uri": "https://localhost:8080/"
        },
        "id": "O4-WbDRu7QZ1",
        "outputId": "b949a824-2c32-4b52-ae62-cd0b6f6d7689"
      },
      "execution_count": 109,
      "outputs": [
        {
          "output_type": "stream",
          "name": "stdout",
          "text": [
            "Epoch 1/30\n",
            "12/12 [==============================] - 1s 21ms/step - loss: 0.5162 - accuracy: 0.8324 - val_loss: 0.3739 - val_accuracy: 0.9670\n",
            "Epoch 2/30\n",
            "12/12 [==============================] - 0s 6ms/step - loss: 0.3288 - accuracy: 0.9066 - val_loss: 0.2577 - val_accuracy: 0.9670\n",
            "Epoch 3/30\n",
            "12/12 [==============================] - 0s 5ms/step - loss: 0.2420 - accuracy: 0.9231 - val_loss: 0.1929 - val_accuracy: 0.9670\n",
            "Epoch 4/30\n",
            "12/12 [==============================] - 0s 6ms/step - loss: 0.1908 - accuracy: 0.9313 - val_loss: 0.1526 - val_accuracy: 0.9670\n",
            "Epoch 5/30\n",
            "12/12 [==============================] - 0s 4ms/step - loss: 0.1564 - accuracy: 0.9396 - val_loss: 0.1286 - val_accuracy: 0.9670\n",
            "Epoch 6/30\n",
            "12/12 [==============================] - 0s 4ms/step - loss: 0.1331 - accuracy: 0.9505 - val_loss: 0.1067 - val_accuracy: 0.9780\n",
            "Epoch 7/30\n",
            "12/12 [==============================] - 0s 4ms/step - loss: 0.1144 - accuracy: 0.9588 - val_loss: 0.0939 - val_accuracy: 0.9780\n",
            "Epoch 8/30\n",
            "12/12 [==============================] - 0s 6ms/step - loss: 0.1031 - accuracy: 0.9670 - val_loss: 0.0816 - val_accuracy: 0.9780\n",
            "Epoch 9/30\n",
            "12/12 [==============================] - 0s 5ms/step - loss: 0.0944 - accuracy: 0.9698 - val_loss: 0.0734 - val_accuracy: 0.9780\n",
            "Epoch 10/30\n",
            "12/12 [==============================] - 0s 5ms/step - loss: 0.0872 - accuracy: 0.9753 - val_loss: 0.0704 - val_accuracy: 0.9780\n",
            "Epoch 11/30\n",
            "12/12 [==============================] - 0s 4ms/step - loss: 0.0826 - accuracy: 0.9780 - val_loss: 0.0637 - val_accuracy: 0.9780\n",
            "Epoch 12/30\n",
            "12/12 [==============================] - 0s 6ms/step - loss: 0.0793 - accuracy: 0.9753 - val_loss: 0.0611 - val_accuracy: 0.9780\n",
            "Epoch 13/30\n",
            "12/12 [==============================] - 0s 4ms/step - loss: 0.0770 - accuracy: 0.9808 - val_loss: 0.0590 - val_accuracy: 0.9780\n",
            "Epoch 14/30\n",
            "12/12 [==============================] - 0s 6ms/step - loss: 0.0740 - accuracy: 0.9808 - val_loss: 0.0603 - val_accuracy: 0.9780\n",
            "Epoch 15/30\n",
            "12/12 [==============================] - 0s 5ms/step - loss: 0.0734 - accuracy: 0.9780 - val_loss: 0.0548 - val_accuracy: 0.9780\n",
            "Epoch 16/30\n",
            "12/12 [==============================] - 0s 6ms/step - loss: 0.0719 - accuracy: 0.9835 - val_loss: 0.0526 - val_accuracy: 0.9780\n",
            "Epoch 17/30\n",
            "12/12 [==============================] - 0s 5ms/step - loss: 0.0713 - accuracy: 0.9808 - val_loss: 0.0527 - val_accuracy: 0.9780\n",
            "Epoch 18/30\n",
            "12/12 [==============================] - 0s 4ms/step - loss: 0.0699 - accuracy: 0.9808 - val_loss: 0.0506 - val_accuracy: 0.9780\n",
            "Epoch 19/30\n",
            "12/12 [==============================] - 0s 5ms/step - loss: 0.0685 - accuracy: 0.9835 - val_loss: 0.0489 - val_accuracy: 0.9780\n",
            "Epoch 20/30\n",
            "12/12 [==============================] - 0s 6ms/step - loss: 0.0674 - accuracy: 0.9835 - val_loss: 0.0471 - val_accuracy: 0.9780\n",
            "Epoch 21/30\n",
            "12/12 [==============================] - 0s 4ms/step - loss: 0.0666 - accuracy: 0.9835 - val_loss: 0.0488 - val_accuracy: 0.9780\n",
            "Epoch 22/30\n",
            "12/12 [==============================] - 0s 5ms/step - loss: 0.0649 - accuracy: 0.9835 - val_loss: 0.0479 - val_accuracy: 0.9780\n",
            "Epoch 23/30\n",
            "12/12 [==============================] - 0s 6ms/step - loss: 0.0640 - accuracy: 0.9863 - val_loss: 0.0437 - val_accuracy: 0.9890\n",
            "Epoch 24/30\n",
            "12/12 [==============================] - 0s 4ms/step - loss: 0.0643 - accuracy: 0.9835 - val_loss: 0.0449 - val_accuracy: 0.9890\n",
            "Epoch 25/30\n",
            "12/12 [==============================] - 0s 4ms/step - loss: 0.0640 - accuracy: 0.9863 - val_loss: 0.0463 - val_accuracy: 0.9780\n",
            "Epoch 26/30\n",
            "12/12 [==============================] - 0s 5ms/step - loss: 0.0619 - accuracy: 0.9863 - val_loss: 0.0455 - val_accuracy: 0.9890\n",
            "Epoch 27/30\n",
            "12/12 [==============================] - 0s 6ms/step - loss: 0.0617 - accuracy: 0.9863 - val_loss: 0.0472 - val_accuracy: 0.9780\n",
            "Epoch 28/30\n",
            "12/12 [==============================] - 0s 4ms/step - loss: 0.0612 - accuracy: 0.9863 - val_loss: 0.0466 - val_accuracy: 0.9890\n",
            "Epoch 29/30\n",
            "12/12 [==============================] - 0s 6ms/step - loss: 0.0612 - accuracy: 0.9835 - val_loss: 0.0458 - val_accuracy: 0.9890\n",
            "Epoch 30/30\n",
            "12/12 [==============================] - 0s 5ms/step - loss: 0.0600 - accuracy: 0.9835 - val_loss: 0.0422 - val_accuracy: 0.9890\n"
          ]
        }
      ]
    },
    {
      "cell_type": "markdown",
      "source": [
        "Test the Model"
      ],
      "metadata": {
        "id": "1C6YeM4q7g1a"
      }
    },
    {
      "cell_type": "code",
      "source": [
        "model.evaluate(x_test, y_test)"
      ],
      "metadata": {
        "colab": {
          "base_uri": "https://localhost:8080/"
        },
        "id": "vhTX-y5g7i5E",
        "outputId": "cd402da5-81be-4093-f42e-4e7b7d3b8acd"
      },
      "execution_count": 110,
      "outputs": [
        {
          "output_type": "stream",
          "name": "stdout",
          "text": [
            "4/4 [==============================] - 0s 3ms/step - loss: 0.0644 - accuracy: 0.9825\n"
          ]
        },
        {
          "output_type": "execute_result",
          "data": {
            "text/plain": [
              "[0.06436041742563248, 0.9824561476707458]"
            ]
          },
          "metadata": {},
          "execution_count": 110
        }
      ]
    },
    {
      "cell_type": "markdown",
      "source": [
        "Plot the graph"
      ],
      "metadata": {
        "id": "GtV2FXF49KpN"
      }
    },
    {
      "cell_type": "code",
      "source": [
        "import matplotlib.pyplot as plt\n",
        "\n",
        "\n",
        "plt.plot(history.history[\"accuracy\"])\n",
        "plt.plot(history.history[\"val_accuracy\"])\n",
        "plt.show()\n",
        "\n",
        "plt.plot(history.history[\"loss\"])\n",
        "plt.plot(history.history[\"val_loss\"])\n",
        "plt.show()"
      ],
      "metadata": {
        "colab": {
          "base_uri": "https://localhost:8080/",
          "height": 513
        },
        "id": "dskIAjen9KK0",
        "outputId": "abe775dd-617d-43e8-f08c-f2d271c22116"
      },
      "execution_count": 111,
      "outputs": [
        {
          "output_type": "display_data",
          "data": {
            "text/plain": [
              "<Figure size 432x288 with 1 Axes>"
            ],
            "image/png": "[encoded data removed]"
          },
          "metadata": {
            "needs_background": "light"
          }
        },
        {
          "output_type": "display_data",
          "data": {
            "text/plain": [
              "<Figure size 432x288 with 1 Axes>"
            ],
            "image/png": "[encoded data removed]"
          },
          "metadata": {
            "needs_background": "light"
          }
        }
      ]
    },
    {
      "cell_type": "code",
      "source": [
        "model.predict(x_test[0:10, ::])"
      ],
      "metadata": {
        "colab": {
          "base_uri": "https://localhost:8080/"
        },
        "id": "HOgmKqzy95Ds",
        "outputId": "b582b744-8e4a-4aac-ed63-2864677ff41a"
      },
      "execution_count": 112,
      "outputs": [
        {
          "output_type": "execute_result",
          "data": {
            "text/plain": [
              "array([[9.1558003e-01],\n",
              "       [9.9950528e-01],\n",
              "       [3.2249093e-04],\n",
              "       [9.9465513e-01],\n",
              "       [1.2207829e-04],\n",
              "       [9.9998009e-01],\n",
              "       [1.9958615e-04],\n",
              "       [7.5501521e-05],\n",
              "       [1.5574694e-04],\n",
              "       [5.0282478e-04]], dtype=float32)"
            ]
          },
          "metadata": {},
          "execution_count": 112
        }
      ]
    }
  ]
}